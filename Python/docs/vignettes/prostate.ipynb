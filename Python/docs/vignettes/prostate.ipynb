{
 "cells": [
  {
   "cell_type": "markdown",
   "metadata": {},
   "source": [
    "# Prostate Cancer\n",
    "\n",
    "Paul Hendricks\n",
    "2017-06-25\n",
    "\n",
    "## Overview\n",
    "\n",
    "In this vignette, we demonstrate the power of easyml using a Prostate Cancer dataset.\n",
    "\n",
    "## Load the data\n",
    "\n",
    "First we load the easymlpy package and the Prostate Cancer dataset.\n"
   ]
  },
  {
   "cell_type": "code",
   "execution_count": 4,
   "metadata": {},
   "outputs": [],
   "source": [
    "from easymlpy.datasets import load_prostate\n",
    "from easymlpy import support_vector_machine\n",
    "\n",
    "%matplotlib inline"
   ]
  },
  {
   "cell_type": "code",
   "execution_count": 3,
   "metadata": {
    "scrolled": true
   },
   "outputs": [
    {
     "name": "stdout",
     "output_type": "stream",
     "text": [
      "     lcavol   lweight  age      lbph  svi       lcp  gleason  pgg45      lpsa\n",
      "0 -0.579818  2.769459   50 -1.386294    0 -1.386294        6      0 -0.430783\n",
      "1 -0.994252  3.319626   58 -1.386294    0 -1.386294        6      0 -0.162519\n",
      "2 -0.510826  2.691243   74 -1.386294    0 -1.386294        7     20 -0.162519\n",
      "3 -1.203973  3.282789   58 -1.386294    0 -1.386294        6      0 -0.162519\n",
      "4  0.751416  3.432373   62 -1.386294    0 -1.386294        6      0  0.371564\n"
     ]
    }
   ],
   "source": [
    "prostate = load_prostate()\n",
    "print(prostate.head())"
   ]
  },
  {
   "cell_type": "markdown",
   "metadata": {},
   "source": [
    "## Train a supprt vector machine model\n",
    "\n",
    "To run an `easy_support_vector_machine` model, we pass in the following parameters:\n",
    "\n",
    "* the data set `prostate`,\n",
    "* the name of the dependent variable e.g. `lpsa`,\n",
    "* whether to run a gaussian or a binomial model,\n",
    "* which variables to exclude from the analysis,\n",
    "* which variables are categorical variables; these variables are not scaled, if `preprocess_scale` is used,\n",
    "* the random state,\n",
    "* whether to display a progress bar,\n",
    "* how many cores to run the analysis on in parallel."
   ]
  },
  {
   "cell_type": "code",
   "execution_count": 6,
   "metadata": {},
   "outputs": [
    {
     "name": "stdout",
     "output_type": "stream",
     "text": [
      "Generating predictions for a single train test split:\n",
      "Generating measures of model performance over multiple train test splits:\n"
     ]
    }
   ],
   "source": [
    "# Analyze data\n",
    "results = support_vector_machine.easy_support_vector_machine(prostate, 'lpsa',\n",
    "                                                             n_samples=10, n_divisions=10, \n",
    "                                                             n_iterations=10, progress_bar=False, \n",
    "                                                             random_state=12345, n_core=1)"
   ]
  },
  {
   "cell_type": "markdown",
   "metadata": {},
   "source": [
    "## Assess results\n",
    "\n",
    "Now let’s assess the results of the `easy_support_vector_machine` model."
   ]
  },
  {
   "cell_type": "code",
   "execution_count": null,
   "metadata": {
    "collapsed": true
   },
   "outputs": [],
   "source": []
  }
 ],
 "metadata": {
  "kernelspec": {
   "display_name": "Python 3",
   "language": "python",
   "name": "python3"
  },
  "language_info": {
   "codemirror_mode": {
    "name": "ipython",
    "version": 3
   },
   "file_extension": ".py",
   "mimetype": "text/x-python",
   "name": "python",
   "nbconvert_exporter": "python",
   "pygments_lexer": "ipython3",
   "version": "3.5.2"
  }
 },
 "nbformat": 4,
 "nbformat_minor": 2
}
